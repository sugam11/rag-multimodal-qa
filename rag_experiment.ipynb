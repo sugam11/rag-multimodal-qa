{
 "cells": [
  {
   "cell_type": "code",
   "execution_count": 1,
   "id": "29b50bfb-9c5e-4f77-a69e-125055064934",
   "metadata": {},
   "outputs": [],
   "source": [
    "import os\n",
    "import flamingo_model\n",
    "from data_loaders import qa_dataset\n",
    "from torch.utils.data import Dataset, DataLoader\n",
    "from PIL import Image\n",
    "import sys\n",
    "import optparse\n",
    "import json\n",
    "from tqdm import tqdm"
   ]
  },
  {
   "cell_type": "code",
   "execution_count": 2,
   "id": "2e16aed4-a0fc-4cbe-bca5-23733fe3daa1",
   "metadata": {},
   "outputs": [],
   "source": [
    "data = qa_dataset.get_dataset(\n",
    "            \"MMQA\", \"val\"\n",
    "        )\n",
    "data_loader = DataLoader(data)"
   ]
  },
  {
   "cell_type": "code",
   "execution_count": 3,
   "id": "efc1f537-8f77-4de5-84c5-d5b17f0b9072",
   "metadata": {},
   "outputs": [],
   "source": [
    "from embedder.clip import CLIPEmbedder\n",
    "import torch\n",
    "device = \"cuda:5\" if torch.cuda.is_available() else \"cpu\"\n",
    "# Define the model ID\n",
    "model_ID = \"openai/clip-vit-base-patch32\"\n",
    "clip = CLIPEmbedder(model_ID, device)"
   ]
  },
  {
   "cell_type": "code",
   "execution_count": 4,
   "id": "f72736db-b25c-47cb-beaa-34fcae22a3e8",
   "metadata": {},
   "outputs": [
    {
     "name": "stdout",
     "output_type": "stream",
     "text": [
      "loaded 275334 vectors\n",
      "Loaded meta data from pickle file\n"
     ]
    }
   ],
   "source": [
    "from vector_db.np_vector_db import NumpySearch\n",
    "mmqa_retriever = NumpySearch(clip, \"MMQA\") "
   ]
  },
  {
   "cell_type": "code",
   "execution_count": 5,
   "id": "e2dc702c-aec3-4366-9fdb-40228bd240b5",
   "metadata": {},
   "outputs": [
    {
     "name": "stderr",
     "output_type": "stream",
     "text": [
      "Using pad_token, but it is not set yet.\n",
      "/soe/sgarg6/.cache/huggingface/modules/transformers_modules/anas-awadalla/mpt-1b-redpajama-200b/8bc4eba452b5a5330f81975a761e4a59c851beea/attention.py:289: UserWarning: Using `attn_impl: torch`. If your model does not use `alibi` or `prefix_lm` we recommend using `attn_impl: flash` otherwise we recommend using `attn_impl: triton`.\n",
      "  warnings.warn(\n"
     ]
    },
    {
     "name": "stdout",
     "output_type": "stream",
     "text": [
      "You are using config.init_device='cpu', but you can also use config.init_device=\"meta\" with Composer + FSDP for fast initialization.\n",
      "Flamingo model initialized with 1046992944 trainable parameters\n"
     ]
    }
   ],
   "source": [
    "model = flamingo_model.FlamingoModel(\"anas-awadalla/mpt-1b-redpajama-200b\", \"anas-awadalla/mpt-1b-redpajama-200b\", 1)"
   ]
  },
  {
   "cell_type": "code",
   "execution_count": 6,
   "id": "9f1f0f99-3519-4044-9269-203f9fadbb78",
   "metadata": {},
   "outputs": [
    {
     "data": {
      "text/plain": [
       "GPTNeoXTokenizerFast(name_or_path='anas-awadalla/mpt-1b-redpajama-200b', vocab_size=50254, model_max_length=2048, is_fast=True, padding_side='right', truncation_side='right', special_tokens={'bos_token': '<|endoftext|>', 'eos_token': '<|endoftext|>', 'unk_token': '<|endoftext|>', 'pad_token': '<PAD>', 'additional_special_tokens': ['<|endofchunk|>', '<image>']}, clean_up_tokenization_spaces=True)"
      ]
     },
     "execution_count": 6,
     "metadata": {},
     "output_type": "execute_result"
    }
   ],
   "source": [
    "model.tokenizer"
   ]
  },
  {
   "cell_type": "code",
   "execution_count": 9,
   "id": "b5c45d6c-2428-4c80-ad12-acf974e66102",
   "metadata": {},
   "outputs": [
    {
     "name": "stderr",
     "output_type": "stream",
     "text": [
      "  0%|                                                                                                                                     | 0/1176 [00:00<?, ?it/s]"
     ]
    },
    {
     "name": "stdout",
     "output_type": "stream",
     "text": [
      "Which Title(s), in Filmography of Ben Piazza, has the left half of a woman's face on its poster?\n"
     ]
    },
    {
     "name": "stderr",
     "output_type": "stream",
     "text": [
      "Setting `pad_token_id` to `eos_token_id`:50277 for open-end generation.\n"
     ]
    },
    {
     "name": "stdout",
     "output_type": "stream",
     "text": [
      "[{'title': 'Oh, What a Night (1944 film)', 'url': 'https://en.wikipedia.org/wiki/Oh,_What_a_Night_(1944_film)', 'id': '8a988bbbe5f583ddb32f4bb67905ebf1', 'text': \"The film's story was written by Marian Orth and the screenplay by Paul Gerard Smith.\", 'type': 'text'}, {'title': 'Reversion (2015 film)', 'url': 'https://en.wikipedia.org/wiki/Reversion_(2015_film)', 'id': '8e9145f2abf0d42710052056f8446932', 'text': 'The film has a 29% rating on Rotten Tomatoes. Wes Greene of \"Slant Magazine\" awarded the film two stars out of four.', 'type': 'text'}, {'title': '1979 in home video', 'url': 'https://en.wikipedia.org/wiki/1979_in_home_video', 'id': '76a62c2924a7089bda075913d59cb46e', 'text': 'The following movies were released on video on the following dates:', 'type': 'text'}, {'title': '1980 in home video', 'url': 'https://en.wikipedia.org/wiki/1980_in_home_video', 'id': 'd8100a1a139c8fc9820927d1bce03429', 'text': 'The following movies were released on video on the following dates:', 'type': 'text'}, {'title': '1971 (disambiguation)', 'url': 'https://en.wikipedia.org/wiki/1971_(disambiguation)', 'id': 'da546cedc77e82c9f0938a1516c6ef7a', 'text': '1971 may refer to the following films:', 'type': 'text'}]\n",
      "[{'title': 'The Hive Stadium', 'url': 'https://en.wikipedia.org/wiki/The_Hive_Stadium', 'id': 'e5617bdd0e2d2c6e0e78b10520f62361', 'path': 'e5617bdd0e2d2c6e0e78b10520f62361.jpg', 'type': 'img'}, {'title': 'Jhon Córdoba', 'url': 'https://en.wikipedia.org/wiki/Jhon_Córdoba', 'id': '74579b90d4f41af015c6dc66f50e61f4', 'path': '74579b90d4f41af015c6dc66f50e61f4.jpg', 'type': 'img'}, {'title': '2014 Houston Dynamo season', 'url': 'https://en.wikipedia.org/wiki/2014_Houston_Dynamo_season', 'id': 'b9072d645e5b13f006bfda66f3e40eb6', 'path': 'b9072d645e5b13f006bfda66f3e40eb6.jpg', 'type': 'img'}, {'title': 'Alban Lafont', 'url': 'https://en.wikipedia.org/wiki/Alban_Lafont', 'id': '4a2a09f01fd172520c022c681a2bd571', 'path': '4a2a09f01fd172520c022c681a2bd571.jpg', 'type': 'img'}, {'title': 'Mame Baba Thiam', 'url': 'https://en.wikipedia.org/wiki/Mame_Baba_Thiam', 'id': '83e9d5ba7a215cdbd6e4396951de0405', 'path': '83e9d5ba7a215cdbd6e4396951de0405.jpg', 'type': 'img'}]\n",
      "The film's story was written by Marian Orth and the screenplay by Paul Gerard Smith. <|endofchunk|> The film has a 29% rating on Rotten Tomatoes. Wes Greene of \"Slant Magazine\" awarded the film two stars out of four. <|endofchunk|> \n",
      " Answer the following question: \n",
      " Which Title(s), in Filmography of Ben Piazza, has the left half of a woman's face on its poster?\n",
      " Answer:\n"
     ]
    },
    {
     "name": "stderr",
     "output_type": "stream",
     "text": [
      "  0%|                                                                                                                           | 1/1176 [00:11<3:37:35, 11.11s/it]"
     ]
    },
    {
     "name": "stdout",
     "output_type": "stream",
     "text": [
      "Which Club(s), in Career statistics | Club of Dženis Beganović, have a flower on the logo?\n"
     ]
    },
    {
     "name": "stderr",
     "output_type": "stream",
     "text": [
      "Setting `pad_token_id` to `eos_token_id`:50277 for open-end generation.\n"
     ]
    },
    {
     "name": "stdout",
     "output_type": "stream",
     "text": [
      "[{'title': 'Miroslav Bjeloš', 'url': 'https://en.wikipedia.org/wiki/Miroslav_Bjeloš', 'id': 'e2a095f82cd766f439c27bb885b2f827', 'text': 'Miroslav Bjeloš (; born 29 October 1990) is a Serbian footballer, who plays as a midfielder for Napredak Kruševac.', 'type': 'text'}, {'title': 'Ivan Vukomanović', 'url': 'https://en.wikipedia.org/wiki/Ivan_Vukomanović', 'id': 'fb32162c5b308e273a3f7155701c5aef', 'text': 'Ivan Vukomanović (Serbian Cyrillic: Иван Вукомановић; born 19 June 1977) is a Serbian football manager.', 'type': 'text'}, {'title': '1952–53 Yugoslav First League', 'url': 'https://en.wikipedia.org/wiki/1952–53_Yugoslav_First_League', 'id': 'a4ce5e5f08b3975d49de70a1f1c25445', 'text': 'players (league matches/league goals): Miljan Zeković (22/0)Todor Živanović (21/17)Branko Stanković (21/1)Predrag Đajić (21/1)Siniša Zlatković (21/0)Rajko Mitić (18/8)Tihomir Ognjanov (17/3)Milorad Diskić (17/0)Branislav Vukosavljević (13/8)Kosta Tomašević (9/3)Dimitrije Tadić (7/0)Jovan Cokić (6/2)Bela Palfi (6/1)Vasilije Šijaković (6/1)Ljuba Spajić (6/0)Dragoljub Župac (3/0)Milivoje Đurđević (2/0)Branko Nešović (1/0)Svetislav Milić (1/0)Miodrag Petrović (1/0)Miroslav Lazić (1/0)', 'type': 'text'}, {'title': 'Filip Hološko', 'url': 'https://en.wikipedia.org/wiki/Filip_Hološko', 'id': 'e215027eaf913e520870b93c9ec8336e', 'text': 'Filip Hološko (; born 17 January 1984) is a former Slovak football striker.', 'type': 'text'}, {'title': 'Oliver Zelenika', 'url': 'https://en.wikipedia.org/wiki/Oliver_Zelenika', 'id': 'bad89b5a67bf67137f3dffb90c771528', 'text': 'Oliver Zelenika (; born 14 May 1993) is a Croatian professional footballer.', 'type': 'text'}]\n",
      "[{'title': \"Don't Waste the Pretty\", 'url': \"https://en.wikipedia.org/wiki/Don't_Waste_the_Pretty\", 'id': '1721fe06e6d5572ad1556018f917c8e3', 'path': '1721fe06e6d5572ad1556018f917c8e3.jpg', 'type': 'img'}, {'title': 'I Want to Live (Josh Gracin song)', 'url': 'https://en.wikipedia.org/wiki/I_Want_to_Live_(Josh_Gracin_song)', 'id': 'bc5dcff4f3d3882e32d3eef0b59acee5', 'path': 'bc5dcff4f3d3882e32d3eef0b59acee5.jpg', 'type': 'img'}, {'title': 'Badhaai Ho', 'url': 'https://en.wikipedia.org/wiki/Badhaai_Ho', 'id': '44804030fa6d880832acbbe8c442f990', 'path': '44804030fa6d880832acbbe8c442f990.jpg', 'type': 'img'}, {'title': 'Super Singh', 'url': 'https://en.wikipedia.org/wiki/Super_Singh', 'id': '4f70a37cbac30333fc5348bfa0ad5687', 'path': '4f70a37cbac30333fc5348bfa0ad5687.jpg', 'type': 'img'}, {'title': 'Because This Is My First Life', 'url': 'https://en.wikipedia.org/wiki/Because_This_Is_My_First_Life', 'id': '56adf9d8761be2b37a064066d6ccd1e8', 'path': '56adf9d8761be2b37a064066d6ccd1e8.jpg', 'type': 'img'}]\n",
      "Miroslav Bjeloš (; born 29 October 1990) is a Serbian footballer, who plays as a midfielder for Napredak Kruševac. <|endofchunk|> Ivan Vukomanović (Serbian Cyrillic: Иван Вукомановић; born 19 June 1977) is a Serbian football manager. <|endofchunk|> \n",
      " Answer the following question: \n",
      " Which Club(s), in Career statistics | Club of Dženis Beganović, have a flower on the logo?\n",
      " Answer:\n"
     ]
    },
    {
     "name": "stderr",
     "output_type": "stream",
     "text": [
      "  0%|▏                                                                                                                          | 2/1176 [00:24<3:59:15, 12.23s/it]"
     ]
    },
    {
     "name": "stdout",
     "output_type": "stream",
     "text": [
      "What award did Barathea win at Churchill Downs in 1994?\n"
     ]
    },
    {
     "name": "stderr",
     "output_type": "stream",
     "text": [
      "Setting `pad_token_id` to `eos_token_id`:50277 for open-end generation.\n"
     ]
    },
    {
     "name": "stdout",
     "output_type": "stream",
     "text": [
      "[{'title': 'Great Sensation', 'url': 'https://en.wikipedia.org/wiki/Great_Sensation', 'id': '516d4b6a880b4179f3eab57f727d4771', 'text': 'Nicknamed \"Cracker,\" he was ridden by Bob Skelton, who rates him as the best stayer he had even ridden.', 'type': 'text'}, {'title': 'Mine That Bird', 'url': 'https://en.wikipedia.org/wiki/Mine_That_Bird', 'id': 'ff2a807bcea4513a88b7c851ef6a1198', 'text': 'Mine That Bird (foaled May 10, 2006) is an American Thoroughbred racehorse who had a racing career in both Canada and the United States from 2008 to 2010. He is best known for pulling off a monumental upset, at 50-to-1 odds, by winning the Kentucky Derby in 2009. He became one of only nine geldings to win the Kentucky Derby and the second gelding to win the race since 1929. He continued to have success in the two remaining races of the American Triple Crown of Thoroughbred Racing by finishing second in the 2009 Preakness Stakes and third in the 2009 Belmont Stakes. On November 6, 2010, Mine That Bird was retired from racing after being winless in nine starts since the Kentucky Derby. He amassed $2,228,637 in earnings and won five of eighteen starts during his three-year racing career.', 'type': 'text'}, {'title': 'Blue Grass Stakes', 'url': 'https://en.wikipedia.org/wiki/Blue_Grass_Stakes', 'id': '8353d1537806b7a36c88e3ab1e2b396b', 'text': 'It was named for the Bluegrass region of Kentucky, characterized by grass having bluish-green culms, which is known as the \"heart\" of the thoroughbred racing industry.', 'type': 'text'}, {'title': 'Opening Verse Handicap', 'url': 'https://en.wikipedia.org/wiki/Opening_Verse_Handicap', 'id': '3df24d81019fab7145d69ef8da49a3d1', 'text': 'The Opening Verse Handicap is an American Thoroughbred horse race run annually in early June at Churchill Downs in Louisville, Kentucky. A non-graded stakes race open to horses age three and older, it is contested on turf over a distance of a mile and a sixteenth. ', 'type': 'text'}, {'title': 'New England Classic (Nationwide Tour event)', 'url': 'https://en.wikipedia.org/wiki/New_England_Classic_(Nationwide_Tour_event)', 'id': 'ba429787c7a43b2804e87c4c58dcd450', 'text': 'In 1993 the winner earned $27,000.', 'type': 'text'}]\n",
      "[{'title': 'Neerali', 'url': 'https://en.wikipedia.org/wiki/Neerali', 'id': '3be8cec86c72a8398dbc1a0c60225562', 'path': '3be8cec86c72a8398dbc1a0c60225562.jpg', 'type': 'img'}, {'title': 'Jigarthanda (2014 film)', 'url': 'https://en.wikipedia.org/wiki/Jigarthanda_(2014_film)', 'id': '4c95a35b0cc61c4ab19c5b26643b95e9', 'path': '4c95a35b0cc61c4ab19c5b26643b95e9.jpg', 'type': 'img'}, {'title': '1: Nenokkadine', 'url': 'https://en.wikipedia.org/wiki/1:_Nenokkadine', 'id': 'cf811dfab49e23be0327bb843093a495', 'path': 'cf811dfab49e23be0327bb843093a495.jpg', 'type': 'img'}, {'title': 'Ekkees Toppon Ki Salaami', 'url': 'https://en.wikipedia.org/wiki/Ekkees_Toppon_Ki_Salaami', 'id': 'e8d23096899ad6b4a00fb9f1074bb393', 'path': 'e8d23096899ad6b4a00fb9f1074bb393.jpg', 'type': 'img'}, {'title': 'Hyper (2016 film)', 'url': 'https://en.wikipedia.org/wiki/Hyper_(2016_film)', 'id': '82e7c111fe92997bdde3ea157baa408a', 'path': '82e7c111fe92997bdde3ea157baa408a.jpg', 'type': 'img'}]\n",
      "Nicknamed \"Cracker,\" he was ridden by Bob Skelton, who rates him as the best stayer he had even ridden. <|endofchunk|> Mine That Bird (foaled May 10, 2006) is an American Thoroughbred racehorse who had a racing career in both Canada and the United States from 2008 to 2010. He is best known for pulling off a monumental upset, at 50-to-1 odds, by winning the Kentucky Derby in 2009. He became one of only nine geldings to win the Kentucky Derby and the second gelding to win the race since 1929. He continued to have success in the two remaining races of the American Triple Crown of Thoroughbred Racing by finishing second in the 2009 Preakness Stakes and third in the 2009 Belmont Stakes. On November 6, 2010, Mine That Bird was retired from racing after being winless in nine starts since the Kentucky Derby. He amassed $2,228,637 in earnings and won five of eighteen starts during his three-year racing career. <|endofchunk|> \n",
      " Answer the following question: \n",
      " What award did Barathea win at Churchill Downs in 1994?\n",
      " Answer:\n"
     ]
    },
    {
     "name": "stderr",
     "output_type": "stream",
     "text": [
      "  0%|▎                                                                                                                          | 3/1176 [00:47<5:42:57, 17.54s/it]"
     ]
    },
    {
     "name": "stdout",
     "output_type": "stream",
     "text": [
      "who rode american pharoah in the kentucky derby\n"
     ]
    },
    {
     "name": "stderr",
     "output_type": "stream",
     "text": [
      "Setting `pad_token_id` to `eos_token_id`:50277 for open-end generation.\n"
     ]
    },
    {
     "name": "stdout",
     "output_type": "stream",
     "text": [
      "[{'title': 'Kentucky Derby', 'url': 'https://en.wikipedia.org/wiki/Kentucky_Derby', 'id': '36d07943703a85fa02558bb352391530', 'text': 'The Kentucky Derby was first run at 1 1/2 miles (12 furlongs; 2.4 km) the same distance as the Epsom Derby. The distance was changed in 1896 to its current 1 1/4 miles (10 furlongs; 2 km). On May 17, 1875, in front of an estimated crowd of 10,000 people, a field of 15 three-year-old horses contested the first Derby. Under jockey Oliver Lewis, a colt named Aristides, who was trained by future Hall of Famer Ansel Williamson, won the inaugural Derby. Later that year, Lewis rode Aristides to a second-place finish in the Belmont Stakes.', 'type': 'text'}, {'title': '2019 Kentucky Derby', 'url': 'https://en.wikipedia.org/wiki/2019_Kentucky_Derby', 'id': '850d1ee35e6f3bdeafd8406d9ae7c650', 'text': 'The 2019 Kentucky Derby (officially, the 2019 Kentucky Derby presented by Woodford Reserve) was the 145th running of the Kentucky Derby, and took place on Saturday, May 4, 2019, in Louisville, Kentucky. The field was open to 20 horses, who qualified for the race by earning points on the 2019 Road to the Kentucky Derby. The Derby is held annually on the first Saturday in May, at the end of the two-week-long Kentucky Derby Festival. It is a Grade I stakes race for three-year-old Thoroughbreds at a distance of , and has been run at Churchill Downs racetrack since its inception in 1875. The purse for 2019 was increased from million to million.', 'type': 'text'}, {'title': 'Blue Grass Stakes', 'url': 'https://en.wikipedia.org/wiki/Blue_Grass_Stakes', 'id': '8353d1537806b7a36c88e3ab1e2b396b', 'text': 'It was named for the Bluegrass region of Kentucky, characterized by grass having bluish-green culms, which is known as the \"heart\" of the thoroughbred racing industry.', 'type': 'text'}, {'title': 'Firing Line (horse)', 'url': 'https://en.wikipedia.org/wiki/Firing_Line_(horse)', 'id': '564053c6eb41bba7e009ceec2ccadcff', 'text': 'Firing Line (foaled January 19, 2012) is an American Thoroughbred racehorse, best known as the runner-up to American Pharoah in the 2015 Kentucky Derby.', 'type': 'text'}, {'title': 'Eclipse Stakes (disambiguation)', 'url': 'https://en.wikipedia.org/wiki/Eclipse_Stakes_(disambiguation)', 'id': 'd8fd9ed03fab743d0dfa25d9d8bd2358', 'text': 'The Eclipse Stakes is a horse race in Great Britain.', 'type': 'text'}]\n",
      "[{'title': 'Siva Manasula Sakthi', 'url': 'https://en.wikipedia.org/wiki/Siva_Manasula_Sakthi', 'id': '936258d8b05c5a65c99ee7fc84e6f1bd', 'path': '936258d8b05c5a65c99ee7fc84e6f1bd.JPG', 'type': 'img'}, {'title': 'Kali (2016 film)', 'url': 'https://en.wikipedia.org/wiki/Kali_(2016_film)', 'id': 'ddc4573291f783a45f8cf670292be2d2', 'path': 'ddc4573291f783a45f8cf670292be2d2.jpg', 'type': 'img'}, {'title': 'Rummy (2014 film)', 'url': 'https://en.wikipedia.org/wiki/Rummy_(2014_film)', 'id': 'a48d39c3c1e5b7b0b703d3643d63cb6b', 'path': 'a48d39c3c1e5b7b0b703d3643d63cb6b.jpg', 'type': 'img'}, {'title': 'Thuppakki', 'url': 'https://en.wikipedia.org/wiki/Thuppakki', 'id': '8b20c63ba38ed01c4a08930d9b4948db', 'path': '8b20c63ba38ed01c4a08930d9b4948db.jpg', 'type': 'img'}, {'title': 'Hum Dum', 'url': 'https://en.wikipedia.org/wiki/Hum_Dum', 'id': '63ad372b814ad42678c2fd102e405837', 'path': '63ad372b814ad42678c2fd102e405837.jpg', 'type': 'img'}]\n",
      "The Kentucky Derby was first run at 1 1/2 miles (12 furlongs; 2.4 km) the same distance as the Epsom Derby. The distance was changed in 1896 to its current 1 1/4 miles (10 furlongs; 2 km). On May 17, 1875, in front of an estimated crowd of 10,000 people, a field of 15 three-year-old horses contested the first Derby. Under jockey Oliver Lewis, a colt named Aristides, who was trained by future Hall of Famer Ansel Williamson, won the inaugural Derby. Later that year, Lewis rode Aristides to a second-place finish in the Belmont Stakes. <|endofchunk|> The 2019 Kentucky Derby (officially, the 2019 Kentucky Derby presented by Woodford Reserve) was the 145th running of the Kentucky Derby, and took place on Saturday, May 4, 2019, in Louisville, Kentucky. The field was open to 20 horses, who qualified for the race by earning points on the 2019 Road to the Kentucky Derby. The Derby is held annually on the first Saturday in May, at the end of the two-week-long Kentucky Derby Festival. It is a Grade I stakes race for three-year-old Thoroughbreds at a distance of , and has been run at Churchill Downs racetrack since its inception in 1875. The purse for 2019 was increased from million to million. <|endofchunk|> \n",
      " Answer the following question: \n",
      " who rode american pharoah in the kentucky derby\n",
      " Answer:\n"
     ]
    },
    {
     "name": "stderr",
     "output_type": "stream",
     "text": [
      "  0%|▍                                                                                                                          | 4/1176 [01:18<7:21:00, 22.58s/it]"
     ]
    },
    {
     "name": "stdout",
     "output_type": "stream",
     "text": [
      "What animals race in the Kentucky Derby?\n"
     ]
    },
    {
     "name": "stderr",
     "output_type": "stream",
     "text": [
      "Setting `pad_token_id` to `eos_token_id`:50277 for open-end generation.\n"
     ]
    },
    {
     "name": "stdout",
     "output_type": "stream",
     "text": [
      "[{'title': 'Kentucky Derby top four finishers', 'url': 'https://en.wikipedia.org/wiki/Kentucky_Derby_top_four_finishers', 'id': 'd22755592f600a3118c041cdf627b4b4', 'text': 'A † designates a Triple Crown Winner.', 'type': 'text'}, {'title': 'Belmont Stakes top three finishers', 'url': 'https://en.wikipedia.org/wiki/Belmont_Stakes_top_three_finishers', 'id': 'd32756fe297c4519591a147a5f453269', 'text': 'A † designates a Triple Crown Winner.', 'type': 'text'}, {'title': 'Eclipse Stakes (disambiguation)', 'url': 'https://en.wikipedia.org/wiki/Eclipse_Stakes_(disambiguation)', 'id': 'd8fd9ed03fab743d0dfa25d9d8bd2358', 'text': 'The Eclipse Stakes is a horse race in Great Britain.', 'type': 'text'}, {'title': '2012 Belmont Stakes', 'url': 'https://en.wikipedia.org/wiki/2012_Belmont_Stakes', 'id': '1c73de47d5d8623889d972b34b852c6f', 'text': \"The race was run without a Triple Crown at stake as Kentucky Derby and Preakness Stakes winner I'll Have Another was scratched from the race due to a leg injury. The field was announced on June 8, 2012.\", 'type': 'text'}, {'title': 'Kentucky Derby', 'url': 'https://en.wikipedia.org/wiki/Kentucky_Derby', 'id': '462186c64463496a9453ccb92e6e0335', 'text': 'The Kentucky Derby is a horse race held annually in Louisville, Kentucky, United States, on the first Saturday in May, capping the two-week-long Kentucky Derby Festival. The competition is a Grade I stakes race for three-year-old Thoroughbreds at a distance of at Churchill Downs. Colts and geldings carry and fillies .', 'type': 'text'}]\n",
      "[{'title': 'Aramm', 'url': 'https://en.wikipedia.org/wiki/Aramm', 'id': 'f427b3d8536bae37c4c7b4ce2f040a6e', 'path': 'f427b3d8536bae37c4c7b4ce2f040a6e.jpg', 'type': 'img'}, {'title': 'Engaeyum Eppothum', 'url': 'https://en.wikipedia.org/wiki/Engaeyum_Eppothum', 'id': '6f9a8009b68a2f90e5bfd3f3dc274d07', 'path': '6f9a8009b68a2f90e5bfd3f3dc274d07.jpg', 'type': 'img'}, {'title': 'Thodari', 'url': 'https://en.wikipedia.org/wiki/Thodari', 'id': '88aac9f9bc94925af0ab2dd4e551b49a', 'path': '88aac9f9bc94925af0ab2dd4e551b49a.jpg', 'type': 'img'}, {'title': 'Adam Joan', 'url': 'https://en.wikipedia.org/wiki/Adam_Joan', 'id': '4575666125beeae0d798870dd6d2ca24', 'path': '4575666125beeae0d798870dd6d2ca24.jpg', 'type': 'img'}, {'title': 'Jigarthanda (2014 film)', 'url': 'https://en.wikipedia.org/wiki/Jigarthanda_(2014_film)', 'id': '4c95a35b0cc61c4ab19c5b26643b95e9', 'path': '4c95a35b0cc61c4ab19c5b26643b95e9.jpg', 'type': 'img'}]\n",
      "A † designates a Triple Crown Winner. <|endofchunk|> A † designates a Triple Crown Winner. <|endofchunk|> \n",
      " Answer the following question: \n",
      " What animals race in the Kentucky Derby?\n",
      " Answer:\n"
     ]
    },
    {
     "name": "stderr",
     "output_type": "stream",
     "text": [
      "  0%|▍                                                                                                                          | 4/1176 [01:25<6:57:00, 21.35s/it]\n"
     ]
    }
   ],
   "source": [
    "blank_image = Image.open(\"resources/1x1_#00000000.png\")\n",
    "answers = {}\n",
    "ctr = 0\n",
    "for x in tqdm(data_loader, position=0, leave=True):\n",
    "    ques = x[0][0]\n",
    "    print(ques)\n",
    "    docs_retrieved = mmqa_retriever.retrieve(ques, \"text\")\n",
    "    img_retrieved = mmqa_retriever.retrieve(ques, \"image\", k=5000)[:5]\n",
    "    print(docs_retrieved)\n",
    "    print(img_retrieved)\n",
    "    qid = x[1][0]\n",
    "    prompt = \"<image>\" + \" <|endofchunk|> \".join([doc[\"text\"] for doc in docs_retrieved[:2]]) + \" <|endofchunk|> \\n Answer the following question: \\n \" + ques + \"\\n Answer:\" \n",
    "    print(prompt)\n",
    "    ans = model.generate_answer(8, [blank_image], prompt)\n",
    "    answers[qid] = ans\n",
    "    ctr += 1\n",
    "    if ctr == 5:\n",
    "        break"
   ]
  },
  {
   "cell_type": "code",
   "execution_count": 10,
   "id": "c2bf77ed-6282-45d2-aa35-351b1fc83fc6",
   "metadata": {},
   "outputs": [
    {
     "data": {
      "text/plain": [
       "{'18ecd2ac6c0ac69993b92dc4b30137e8': 'The film\\'s story was written by Marian Orth and the screenplay by Paul Gerard Smith. <|endofchunk|> The film has a 29% rating on Rotten Tomatoes. Wes Greene of \"Slant Magazine\" awarded the film two stars out of four. <|endofchunk|> \\n Answer the following question: \\n Which Title(s), in Filmography of Ben Piazza, has the left half of a woman\\'s face on its poster?\\n Answer: \\n Which Title(s), in Filmography of Ben Piazza, has the right half of a woman\\'s face on its poster?\\n Answer: \\n Which Title(s), in Filmography of',\n",
       " 'e1e6ed53f9ad11813845088f4cf2f6b1': 'Miroslav Bjeloš (; born 29 October 1990) is a Serbian footballer, who plays as a midfielder for Napredak Kruševac. <|endofchunk|> Ivan Vukomanović (Serbian Cyrillic: Иван Вукомановић; born 19 June 1977) is a Serbian football manager. <|endofchunk|> \\n Answer the following question: \\n Which Club(s), in Career statistics | Club of Dženis Beganović, have a flower on the logo?\\n Answer: \\n Which Club(s), in Career statistics | Club of Dženis Beganović, have a flower on the logo?\\n Answer: \\n Which Club(s), in Career statistics',\n",
       " '5fb253761e72a6048b8b759f04c3b784': 'Nicknamed \"Cracker,\" he was ridden by Bob Skelton, who rates him as the best stayer he had even ridden. <|endofchunk|> Mine That Bird (foaled May 10, 2006) is an American Thoroughbred racehorse who had a racing career in both Canada and the United States from 2008 to 2010. He is best known for pulling off a monumental upset, at 50-to-1 odds, by winning the Kentucky Derby in 2009. He became one of only nine geldings to win the Kentucky Derby and the second gelding to win the race since 1929. He continued to have success in the two remaining races of the American Triple Crown of Thoroughbred Racing by finishing second in the 2009 Preakness Stakes and third in the 2009 Belmont Stakes. On November 6, 2010, Mine That Bird was retired from racing after being winless in nine starts since the Kentucky Derby. He amassed $2,228,637 in earnings and won five of eighteen starts during his three-year racing career. <|endofchunk|> \\n Answer the following question: \\n What award did Barathea win at Churchill Downs in 1994?\\n Answer: The Blue Grass Stakes\\n The Blue Grass Stakes is an American Thoroughbred horse race for three-year-old fillies. It is run at Churchill Downs in Louisville, Kentucky,',\n",
       " '33cf75c43fb268f267002cf8b9c28313': 'The Kentucky Derby was first run at 1 1/2 miles (12 furlongs; 2.4 km) the same distance as the Epsom Derby. The distance was changed in 1896 to its current 1 1/4 miles (10 furlongs; 2 km). On May 17, 1875, in front of an estimated crowd of 10,000 people, a field of 15 three-year-old horses contested the first Derby. Under jockey Oliver Lewis, a colt named Aristides, who was trained by future Hall of Famer Ansel Williamson, won the inaugural Derby. Later that year, Lewis rode Aristides to a second-place finish in the Belmont Stakes. <|endofchunk|> The 2019 Kentucky Derby (officially, the 2019 Kentucky Derby presented by Woodford Reserve) was the 145th running of the Kentucky Derby, and took place on Saturday, May 4, 2019, in Louisville, Kentucky. The field was open to 20 horses, who qualified for the race by earning points on the 2019 Road to the Kentucky Derby. The Derby is held annually on the first Saturday in May, at the end of the two-week-long Kentucky Derby Festival. It is a Grade I stakes race for three-year-old Thoroughbreds at a distance of, and has been run at Churchill Downs racetrack since its inception in 1875. The purse for 2019 was increased from million to million. <|endofchunk|> \\n Answer the following question: \\n who rode american pharoah in the kentucky derby\\n Answer: jockey john valentine\\n john valentine rode american pharoah in the kentucky derby\\n Answer: john valentine\\n john valentine',\n",
       " 'bc2bade34338dadc9536bc852ec50919': 'A † designates a Triple Crown Winner. <|endofchunk|> A † designates a Triple Crown Winner. <|endofchunk|> \\n Answer the following question: \\n What animals race in the Kentucky Derby?\\n Answer: \\n What animals race in the Kentucky Derby?\\n Answer: \\n What animals race in the Kentucky Derby?\\n Answer: \\n What animals race in the Kentucky Derby?\\n Answer: \\n What animals race'}"
      ]
     },
     "execution_count": 10,
     "metadata": {},
     "output_type": "execute_result"
    }
   ],
   "source": [
    "answers"
   ]
  },
  {
   "cell_type": "code",
   "execution_count": null,
   "id": "5ab2c07b-86de-4526-885c-4420af2dab6c",
   "metadata": {},
   "outputs": [],
   "source": []
  },
  {
   "cell_type": "code",
   "execution_count": null,
   "id": "6d2184d0-32be-4929-8693-ab0cbd4f1787",
   "metadata": {},
   "outputs": [],
   "source": []
  },
  {
   "cell_type": "code",
   "execution_count": null,
   "id": "49bc430a-daf8-4cc7-87d6-64c3235c57b0",
   "metadata": {},
   "outputs": [],
   "source": []
  },
  {
   "cell_type": "code",
   "execution_count": null,
   "id": "65310a1a-5b69-4104-b9ed-4bfbffa394df",
   "metadata": {},
   "outputs": [],
   "source": []
  },
  {
   "cell_type": "code",
   "execution_count": null,
   "id": "5581f466-e179-4be5-8b18-1ae67d3c512f",
   "metadata": {},
   "outputs": [],
   "source": []
  },
  {
   "cell_type": "code",
   "execution_count": null,
   "id": "3c4ca000-ab08-442b-9ca8-bcf0c4bf51e4",
   "metadata": {},
   "outputs": [],
   "source": []
  },
  {
   "cell_type": "code",
   "execution_count": null,
   "id": "340eb1c4-a574-4c60-8ff8-d5594f6884f5",
   "metadata": {},
   "outputs": [],
   "source": []
  },
  {
   "cell_type": "code",
   "execution_count": 24,
   "id": "d9a27780-6240-46fd-8620-4d363cd598f5",
   "metadata": {},
   "outputs": [],
   "source": [
    "from data_loaders import data_utils\n",
    "data = data_utils.load_jsonl_file(\"/data/users/sgarg6/capstone/multimodalqa/MMQA_dev.jsonl\")"
   ]
  },
  {
   "cell_type": "code",
   "execution_count": 28,
   "id": "bf586bdd-9980-49b8-8f58-d963445502c6",
   "metadata": {},
   "outputs": [
    {
     "name": "stdout",
     "output_type": "stream",
     "text": [
      "[{'qid': '18ecd2ac6c0ac69993b92dc4b30137e8', 'question': \"Which Title(s), in Filmography of Ben Piazza, has the left half of a woman's face on its poster?\", 'answers': [{'answer': 'Tell Me That You Love Me, Junie Moon', 'type': 'string', 'modality': 'image', 'text_instances': [], 'table_indices': [], 'image_instances': [{'doc_id': 'ddf8b52a8400deaf05940c5cad8169cd', 'doc_part': 'image'}]}], 'metadata': {'wiki_entities_in_question': [], 'wiki_entities_in_answers': ['Tell Me That You Love Me, Junie Moon'], 'type': 'ImageListQ', 'modalities': ['image'], 'image_doc_ids': ['c29dbf5e372abe403f66c4845bf924b5', '4e9411dae3cbab2b5223b9dabf825684', 'ddf8b52a8400deaf05940c5cad8169cd', 'c67ed9c5f5ba2a12fa95610d523fe28d', '4b6d3e469ff8395a0f8c1a13c0422937', 'cadbc8e1fb23d7fe15b88ea1141d2dd2', '1c0d30d5776bb8ee954667c5277f4bf7', 'ea2173ed76c57ccbe743e87c195f4a37', '8b5a40ca458a36fb64a1785297b66fd8', '9061cf6560fc6305fbd1575097c11aa4', '7869011075ff671da6fd10497b262609', '86cac3116bf69a5e5b2c20866d03e53c', '103e78f3b29095aef414c5b18532da2c', 'ca2bf68495e00f43c248562bec134dbe'], 'text_doc_ids': ['7d567450c9e91b13727db7f9581a05ae', 'dd1d66075aa05ebb21b4a712ed1d114f', 'a8aa15d76d8bdc7bacade1250ed61b8f', '127a4fc8d34e794fe10615c2f30818df', '71441d55b94a7d66c090307229bfd4b1', 'c58f8e1bdfa55486737393486d72c7d7', '9ea90db1622fc87acef46c26f654c546', 'dfce56a1368e280ff1539c36669c2033', 'd7a347507108c8bf4e78a9bda02fcb93', 'd3e8e8060111cdb725a5e0b39d4db391'], 'intermediate_answers': [], 'table_id': '8513db80c11ea439ab11eba406ec00d9'}, 'supporting_context': [{'doc_id': 'ddf8b52a8400deaf05940c5cad8169cd', 'doc_part': 'image'}]}]\n"
     ]
    }
   ],
   "source": [
    "print([sample for sample in data if sample[\"qid\"] == '18ecd2ac6c0ac69993b92dc4b30137e8'])"
   ]
  },
  {
   "cell_type": "code",
   "execution_count": 43,
   "id": "e909fcca-81eb-498a-95bf-e6ef3a273e14",
   "metadata": {},
   "outputs": [
    {
     "data": {
      "text/plain": [
       "[{'title': 'Hidden Palms',\n",
       "  'url': 'https://en.wikipedia.org/wiki/Hidden_Palms',\n",
       "  'id': '9522e2239ab2561e48ac7f3f4c2599e3',\n",
       "  'path': '9522e2239ab2561e48ac7f3f4c2599e3.jpg',\n",
       "  'type': 'img'},\n",
       " {'title': 'Wolfenstein: Cyberpilot',\n",
       "  'url': 'https://en.wikipedia.org/wiki/Wolfenstein:_Cyberpilot',\n",
       "  'id': '398e8ebacb95002f14ed428eb6ecf27e',\n",
       "  'path': '398e8ebacb95002f14ed428eb6ecf27e.jpg',\n",
       "  'type': 'img'},\n",
       " {'title': 'Girlfriends (U.S. TV series)',\n",
       "  'url': 'https://en.wikipedia.org/wiki/Girlfriends_(U.S._TV_series)',\n",
       "  'id': '1699ec924ad24479122f9c5f04a85137',\n",
       "  'path': '1699ec924ad24479122f9c5f04a85137.jpg',\n",
       "  'type': 'img'},\n",
       " {'title': 'Journey Through the Past (film)',\n",
       "  'url': 'https://en.wikipedia.org/wiki/Journey_Through_the_Past_(film)',\n",
       "  'id': '3911f534150a4a8316072205b6f9cd05',\n",
       "  'path': '3911f534150a4a8316072205b6f9cd05.jpg',\n",
       "  'type': 'img'},\n",
       " {'title': 'MADtv',\n",
       "  'url': 'https://en.wikipedia.org/wiki/MADtv',\n",
       "  'id': '52c5807b6d519e31ef31660052dc652b',\n",
       "  'path': '52c5807b6d519e31ef31660052dc652b.jpg',\n",
       "  'type': 'img'},\n",
       " {'title': 'Capadocia (TV series)',\n",
       "  'url': 'https://en.wikipedia.org/wiki/Capadocia_(TV_series)',\n",
       "  'id': '7122fe9abeda8144e4d00aabf3365f57',\n",
       "  'path': '7122fe9abeda8144e4d00aabf3365f57.jpg',\n",
       "  'type': 'img'},\n",
       " {'title': 'Treadstone (TV series)',\n",
       "  'url': 'https://en.wikipedia.org/wiki/Treadstone_(TV_series)',\n",
       "  'id': 'a6a73252f460c588435046849153f839',\n",
       "  'path': 'a6a73252f460c588435046849153f839.jpg',\n",
       "  'type': 'img'},\n",
       " {'title': 'The House That Shadows Built',\n",
       "  'url': 'https://en.wikipedia.org/wiki/The_House_That_Shadows_Built',\n",
       "  'id': '57a409f70b6fa7d765d3594495b1c976',\n",
       "  'path': '57a409f70b6fa7d765d3594495b1c976.jpg',\n",
       "  'type': 'img'},\n",
       " {'title': 'Preston Pig',\n",
       "  'url': 'https://en.wikipedia.org/wiki/Preston_Pig',\n",
       "  'id': 'd2b2eaecd99ef16b007e487c02f9f6b2',\n",
       "  'path': 'd2b2eaecd99ef16b007e487c02f9f6b2.jpg',\n",
       "  'type': 'img'},\n",
       " {'title': \"Salem's Lot\",\n",
       "  'url': \"https://en.wikipedia.org/wiki/Salem's_Lot\",\n",
       "  'id': 'df55d286799c1c2eb090274cbc4b2741',\n",
       "  'path': 'df55d286799c1c2eb090274cbc4b2741.jpg',\n",
       "  'type': 'img'}]"
      ]
     },
     "execution_count": 43,
     "metadata": {},
     "output_type": "execute_result"
    }
   ],
   "source": [
    "test = \"Entrance to the Grand Canal, Venice is an oil on canvas painting by Paul Signac, executed in 1905, now in the Toledo Museum of Art, Ohio, USA. It shows the entrance to the Grand Canal in Venice, with the Dogana da Mar and Santa Maria della Salute in the background.\"\n",
    "mmqa_retriever.retrieve(test, \"image\", k=10)"
   ]
  },
  {
   "cell_type": "code",
   "execution_count": null,
   "id": "84be33f0-e49e-41ac-b1ac-d278761b7de8",
   "metadata": {},
   "outputs": [],
   "source": []
  }
 ],
 "metadata": {
  "kernelspec": {
   "display_name": "Python 3 (ipykernel)",
   "language": "python",
   "name": "python3"
  },
  "language_info": {
   "codemirror_mode": {
    "name": "ipython",
    "version": 3
   },
   "file_extension": ".py",
   "mimetype": "text/x-python",
   "name": "python",
   "nbconvert_exporter": "python",
   "pygments_lexer": "ipython3",
   "version": "3.10.6"
  }
 },
 "nbformat": 4,
 "nbformat_minor": 5
}
